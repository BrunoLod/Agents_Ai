{
  "nbformat": 4,
  "nbformat_minor": 0,
  "metadata": {
    "colab": {
      "provenance": []
    },
    "kernelspec": {
      "name": "python3",
      "display_name": "Python 3"
    },
    "language_info": {
      "name": "python"
    }
  },
  "cells": [
    {
      "cell_type": "markdown",
      "source": [
        "# Apresentação ✒️\n",
        "\n",
        "Notebook destinado à criação e implementação de [Agents](https://www.ibm.com/think/topics/ai-agents), com LangChain, um framework que permite a manipulação de modelos de linguagem (LLM) para a realização de tarefas e personalização de respostas que promovam melhor aderência ao contexto de uso em relação ao modelo utilizado.\n",
        "\n",
        "Como caso de uso, o objetivo é criar um agent consultor de carreiras que cumpre a tarefa de guiar os estudantes de uma escola fictícia acerca das universidades de seu interesse, bem como outras ações correlacionadas, podendo ser requisitado a elaborar um perfil de um determinado estudante, compará-lo com outro e etc.\n",
        "\n",
        "Para a sua realização, carreguei os conjuntos de dados necessários e que estarão disponíveis no trecho pertinente, bem como a criação de ferramentas, elementos salutares que permitem à LLM utilizada acessar informações externas, para além de seu domínio prévio de treinamento e realizar ações.\n",
        "\n",
        "Cada ferramenta foi nomeada, apresentando comentários para facilitar o entendimento de cada trecho ou passo executado. Após a criação das ferramentas, há a elaboração do agent, seguindo as boas práticas de engenharia de prompt, para a definição de comportamento e assertividade da LLM utilizada (em sua formatação me inspirei no ***set*** utilizado pela [CrewAI](https://www.crewai.com)).\n",
        "\n"
      ],
      "metadata": {
        "id": "uGQv9OBKT7wH"
      }
    },
    {
      "cell_type": "markdown",
      "source": [
        "## Bibliotecas 📚"
      ],
      "metadata": {
        "id": "JUWYUd9-eTJr"
      }
    },
    {
      "cell_type": "code",
      "execution_count": 1,
      "metadata": {
        "id": "IuzI4djUeSVh",
        "colab": {
          "base_uri": "https://localhost:8080/"
        },
        "outputId": "9cf4e783-541d-4a5b-c19d-4a4ec57176b0"
      },
      "outputs": [
        {
          "output_type": "stream",
          "name": "stdout",
          "text": [
            "\u001b[2K     \u001b[90m━━━━━━━━━━━━━━━━━━━━━━━━━━━━━━━━━━━━━━━━\u001b[0m \u001b[32m50.4/50.4 kB\u001b[0m \u001b[31m705.9 kB/s\u001b[0m eta \u001b[36m0:00:00\u001b[0m\n",
            "\u001b[2K   \u001b[90m━━━━━━━━━━━━━━━━━━━━━━━━━━━━━━━━━━━━━━━━\u001b[0m \u001b[32m374.2/374.2 kB\u001b[0m \u001b[31m11.1 MB/s\u001b[0m eta \u001b[36m0:00:00\u001b[0m\n",
            "\u001b[2K   \u001b[90m━━━━━━━━━━━━━━━━━━━━━━━━━━━━━━━━━━━━━━━━\u001b[0m \u001b[32m139.8/139.8 kB\u001b[0m \u001b[31m5.4 MB/s\u001b[0m eta \u001b[36m0:00:00\u001b[0m\n",
            "\u001b[2K   \u001b[90m━━━━━━━━━━━━━━━━━━━━━━━━━━━━━━━━━━━━━━━━\u001b[0m \u001b[32m141.1/141.1 kB\u001b[0m \u001b[31m6.6 MB/s\u001b[0m eta \u001b[36m0:00:00\u001b[0m\n",
            "\u001b[?25h"
          ]
        }
      ],
      "source": [
        "!pip install langchain_google_genai google-generativeai -q"
      ]
    },
    {
      "cell_type": "code",
      "source": [
        "!pip install python-dotenv langchain langchainhub -q"
      ],
      "metadata": {
        "id": "o0sTgU9tfGM1",
        "colab": {
          "base_uri": "https://localhost:8080/"
        },
        "outputId": "e75cdedd-e7a6-4efd-e6a2-6d460670ba75"
      },
      "execution_count": 2,
      "outputs": [
        {
          "output_type": "stream",
          "name": "stdout",
          "text": [
            "\u001b[?25l   \u001b[90m━━━━━━━━━━━━━━━━━━━━━━━━━━━━━━━━━━━━━━━━\u001b[0m \u001b[32m0.0/990.3 kB\u001b[0m \u001b[31m?\u001b[0m eta \u001b[36m-:--:--\u001b[0m\r\u001b[2K   \u001b[91m━━━━━━━━━━━━━━━━━━━━━━━━━━━━━━━━━\u001b[0m\u001b[91m╸\u001b[0m\u001b[90m━━━━━━\u001b[0m \u001b[32m829.4/990.3 kB\u001b[0m \u001b[31m26.1 MB/s\u001b[0m eta \u001b[36m0:00:01\u001b[0m\r\u001b[2K   \u001b[90m━━━━━━━━━━━━━━━━━━━━━━━━━━━━━━━━━━━━━━━━\u001b[0m \u001b[32m990.3/990.3 kB\u001b[0m \u001b[31m14.4 MB/s\u001b[0m eta \u001b[36m0:00:00\u001b[0m\n",
            "\u001b[?25h"
          ]
        }
      ]
    },
    {
      "cell_type": "code",
      "source": [
        "!pip install -U langchain-community langgraph langchain-anthropic tavily-python -q"
      ],
      "metadata": {
        "id": "THYrTzA8RWFc",
        "colab": {
          "base_uri": "https://localhost:8080/"
        },
        "outputId": "177d54eb-247e-4d60-d9d5-87f4d2cfcc43"
      },
      "execution_count": 3,
      "outputs": [
        {
          "output_type": "stream",
          "name": "stdout",
          "text": [
            "\u001b[?25l   \u001b[90m━━━━━━━━━━━━━━━━━━━━━━━━━━━━━━━━━━━━━━━━\u001b[0m \u001b[32m0.0/2.3 MB\u001b[0m \u001b[31m?\u001b[0m eta \u001b[36m-:--:--\u001b[0m\r\u001b[2K   \u001b[91m━━━━━━━━━━━━━━━━━━━━━━━━━━━━━━━━━━━━━━━\u001b[0m\u001b[91m╸\u001b[0m \u001b[32m2.3/2.3 MB\u001b[0m \u001b[31m95.0 MB/s\u001b[0m eta \u001b[36m0:00:01\u001b[0m\r\u001b[2K   \u001b[90m━━━━━━━━━━━━━━━━━━━━━━━━━━━━━━━━━━━━━━━━\u001b[0m \u001b[32m2.3/2.3 MB\u001b[0m \u001b[31m38.1 MB/s\u001b[0m eta \u001b[36m0:00:00\u001b[0m\n",
            "\u001b[2K   \u001b[90m━━━━━━━━━━━━━━━━━━━━━━━━━━━━━━━━━━━━━━━━\u001b[0m \u001b[32m102.6/102.6 kB\u001b[0m \u001b[31m5.8 MB/s\u001b[0m eta \u001b[36m0:00:00\u001b[0m\n",
            "\u001b[2K   \u001b[90m━━━━━━━━━━━━━━━━━━━━━━━━━━━━━━━━━━━━━━━━\u001b[0m \u001b[32m865.5/865.5 kB\u001b[0m \u001b[31m32.7 MB/s\u001b[0m eta \u001b[36m0:00:00\u001b[0m\n",
            "\u001b[2K   \u001b[90m━━━━━━━━━━━━━━━━━━━━━━━━━━━━━━━━━━━━━━━━\u001b[0m \u001b[32m75.6/75.6 kB\u001b[0m \u001b[31m1.5 MB/s\u001b[0m eta \u001b[36m0:00:00\u001b[0m\n",
            "\u001b[2K   \u001b[90m━━━━━━━━━━━━━━━━━━━━━━━━━━━━━━━━━━━━━━━━\u001b[0m \u001b[32m77.9/77.9 kB\u001b[0m \u001b[31m3.4 MB/s\u001b[0m eta \u001b[36m0:00:00\u001b[0m\n",
            "\u001b[2K   \u001b[90m━━━━━━━━━━━━━━━━━━━━━━━━━━━━━━━━━━━━━━━━\u001b[0m \u001b[32m1.1/1.1 MB\u001b[0m \u001b[31m38.6 MB/s\u001b[0m eta \u001b[36m0:00:00\u001b[0m\n",
            "\u001b[2K   \u001b[90m━━━━━━━━━━━━━━━━━━━━━━━━━━━━━━━━━━━━━━━━\u001b[0m \u001b[32m318.9/318.9 kB\u001b[0m \u001b[31m19.8 MB/s\u001b[0m eta \u001b[36m0:00:00\u001b[0m\n",
            "\u001b[2K   \u001b[90m━━━━━━━━━━━━━━━━━━━━━━━━━━━━━━━━━━━━━━━━\u001b[0m \u001b[32m49.2/49.2 kB\u001b[0m \u001b[31m2.1 MB/s\u001b[0m eta \u001b[36m0:00:00\u001b[0m\n",
            "\u001b[2K   \u001b[90m━━━━━━━━━━━━━━━━━━━━━━━━━━━━━━━━━━━━━━━━\u001b[0m \u001b[32m58.3/58.3 kB\u001b[0m \u001b[31m2.8 MB/s\u001b[0m eta \u001b[36m0:00:00\u001b[0m\n",
            "\u001b[?25h"
          ]
        }
      ]
    },
    {
      "cell_type": "code",
      "source": [
        "import os\n",
        "import json\n",
        "import warnings\n",
        "warnings.filterwarnings('ignore')\n",
        "\n",
        "import pandas as pd\n",
        "\n",
        "import google.generativeai as genai\n",
        "\n",
        "from typing import List\n",
        "from dotenv import load_dotenv\n",
        "\n",
        "from langchain import hub\n",
        "\n",
        "from langchain.tools import BaseTool\n",
        "from langchain_google_genai import ChatGoogleGenerativeAI\n",
        "\n",
        "from langchain.prompts import PromptTemplate\n",
        "from langchain_core.prompts.chat import ChatPromptTemplate, MessagesPlaceholder\n",
        "\n",
        "from langchain_core.pydantic_v1 import Field, BaseModel\n",
        "from langchain_core.messages import HumanMessage\n",
        "\n",
        "from langchain.agents import create_react_agent, create_openai_tools_agent\n",
        "from langchain.agents import AgentExecutor\n",
        "\n",
        "from langchain.agents import Tool\n",
        "from langchain_core.output_parsers import JsonOutputParser\n"
      ],
      "metadata": {
        "id": "Xgzp_wO2ezbM"
      },
      "execution_count": 4,
      "outputs": []
    },
    {
      "cell_type": "markdown",
      "source": [
        "## Definindo a variável de ambiente 🧩"
      ],
      "metadata": {
        "id": "6Hjr4q1Mggq5"
      }
    },
    {
      "cell_type": "code",
      "source": [
        "os.environ['GOOGLE_API_KEY'] = \"sua-api-key\"\n",
        "\n",
        "genai.configure(api_key=os.environ['GOOGLE_API_KEY'])"
      ],
      "metadata": {
        "id": "ejab3XEJgjfw"
      },
      "execution_count": 5,
      "outputs": []
    },
    {
      "cell_type": "markdown",
      "source": [
        "## Carregando os datasets 💾\n",
        "\n",
        "Para o estudantes : https://github.com/alura-cursos/3860-langchain-agentes-python/blob/projeto-base/documentos/estudantes.csv\n",
        "\n",
        "Para as universidades : https://github.com/alura-cursos/3860-langchain-agentes-python/blob/projeto-base/documentos/universidades.csv\n",
        "\n"
      ],
      "metadata": {
        "id": "DYDc7TXLg1L4"
      }
    },
    {
      "cell_type": "code",
      "source": [
        "estudantes_file = \"estudantes.csv\"\n",
        "universidades_file = \"universidades.csv\"\n",
        "\n",
        "df_estudantes = pd.read_csv(estudantes_file)\n",
        "df_universidades = pd.read_csv(universidades_file)"
      ],
      "metadata": {
        "id": "wHUAYu1jgFlK"
      },
      "execution_count": 6,
      "outputs": []
    },
    {
      "cell_type": "markdown",
      "source": [
        "### Visualizando os dataframes 🔎"
      ],
      "metadata": {
        "id": "xi53EkxLhSsL"
      }
    },
    {
      "cell_type": "code",
      "source": [
        "df_estudantes.head(2)"
      ],
      "metadata": {
        "colab": {
          "base_uri": "https://localhost:8080/",
          "height": 167
        },
        "id": "Pyzc3lZthPMk",
        "outputId": "0342d917-b6f6-4228-89d7-f55e71f5732c"
      },
      "execution_count": 7,
      "outputs": [
        {
          "output_type": "execute_result",
          "data": {
            "text/plain": [
              "    NOME USUARIO  ANO_FORMATURA  SCORE_MATEMATICA  SCORE_PORTUGUES_  \\\n",
              "0    Ana     ana           2029                 4                 6   \n",
              "1  Ariel   ariel           2026                 2                 7   \n",
              "\n",
              "   SCORE_BIOLOGIA  SCORE_FISICA  SCORE_COMPUTACAO  SCORE_FILOSOFIA  \\\n",
              "0               8             8                 3                5   \n",
              "1               8             7                 2                4   \n",
              "\n",
              "   SCORE_PROJETOS  SCORE_ATIVIDADES_SOCIAIS  SCORE_PUBLICACOES  \\\n",
              "0               5                         2                  0   \n",
              "1               0                         8                 10   \n",
              "\n",
              "           LISTA_AREAS_PREFERIDAS  PROEFICIENCIA_INGLES  \\\n",
              "0                     ['Humanas']                   5.5   \n",
              "1  ['Ciências', 'Saúde', 'Artes']                   7.5   \n",
              "\n",
              "   PROEFICIENCIA_ESPANHOL       LISTA_PAISES_PREFERIDOS  \\\n",
              "0                     5.5        ['Brasil', 'Alemanha']   \n",
              "1                     9.0  ['Austrália', 'Reino Unido']   \n",
              "\n",
              "                  LISTA_UNIVERSIDADES_PREFERIDAS  \n",
              "0  ['UNICAMP', 'Technical University of Berlin']  \n",
              "1   ['University of Sydney', 'Imperial College']  "
            ],
            "text/html": [
              "\n",
              "  <div id=\"df-a06b6e44-64d8-4905-a536-cbcb69956ec7\" class=\"colab-df-container\">\n",
              "    <div>\n",
              "<style scoped>\n",
              "    .dataframe tbody tr th:only-of-type {\n",
              "        vertical-align: middle;\n",
              "    }\n",
              "\n",
              "    .dataframe tbody tr th {\n",
              "        vertical-align: top;\n",
              "    }\n",
              "\n",
              "    .dataframe thead th {\n",
              "        text-align: right;\n",
              "    }\n",
              "</style>\n",
              "<table border=\"1\" class=\"dataframe\">\n",
              "  <thead>\n",
              "    <tr style=\"text-align: right;\">\n",
              "      <th></th>\n",
              "      <th>NOME</th>\n",
              "      <th>USUARIO</th>\n",
              "      <th>ANO_FORMATURA</th>\n",
              "      <th>SCORE_MATEMATICA</th>\n",
              "      <th>SCORE_PORTUGUES_</th>\n",
              "      <th>SCORE_BIOLOGIA</th>\n",
              "      <th>SCORE_FISICA</th>\n",
              "      <th>SCORE_COMPUTACAO</th>\n",
              "      <th>SCORE_FILOSOFIA</th>\n",
              "      <th>SCORE_PROJETOS</th>\n",
              "      <th>SCORE_ATIVIDADES_SOCIAIS</th>\n",
              "      <th>SCORE_PUBLICACOES</th>\n",
              "      <th>LISTA_AREAS_PREFERIDAS</th>\n",
              "      <th>PROEFICIENCIA_INGLES</th>\n",
              "      <th>PROEFICIENCIA_ESPANHOL</th>\n",
              "      <th>LISTA_PAISES_PREFERIDOS</th>\n",
              "      <th>LISTA_UNIVERSIDADES_PREFERIDAS</th>\n",
              "    </tr>\n",
              "  </thead>\n",
              "  <tbody>\n",
              "    <tr>\n",
              "      <th>0</th>\n",
              "      <td>Ana</td>\n",
              "      <td>ana</td>\n",
              "      <td>2029</td>\n",
              "      <td>4</td>\n",
              "      <td>6</td>\n",
              "      <td>8</td>\n",
              "      <td>8</td>\n",
              "      <td>3</td>\n",
              "      <td>5</td>\n",
              "      <td>5</td>\n",
              "      <td>2</td>\n",
              "      <td>0</td>\n",
              "      <td>['Humanas']</td>\n",
              "      <td>5.5</td>\n",
              "      <td>5.5</td>\n",
              "      <td>['Brasil', 'Alemanha']</td>\n",
              "      <td>['UNICAMP', 'Technical University of Berlin']</td>\n",
              "    </tr>\n",
              "    <tr>\n",
              "      <th>1</th>\n",
              "      <td>Ariel</td>\n",
              "      <td>ariel</td>\n",
              "      <td>2026</td>\n",
              "      <td>2</td>\n",
              "      <td>7</td>\n",
              "      <td>8</td>\n",
              "      <td>7</td>\n",
              "      <td>2</td>\n",
              "      <td>4</td>\n",
              "      <td>0</td>\n",
              "      <td>8</td>\n",
              "      <td>10</td>\n",
              "      <td>['Ciências', 'Saúde', 'Artes']</td>\n",
              "      <td>7.5</td>\n",
              "      <td>9.0</td>\n",
              "      <td>['Austrália', 'Reino Unido']</td>\n",
              "      <td>['University of Sydney', 'Imperial College']</td>\n",
              "    </tr>\n",
              "  </tbody>\n",
              "</table>\n",
              "</div>\n",
              "    <div class=\"colab-df-buttons\">\n",
              "\n",
              "  <div class=\"colab-df-container\">\n",
              "    <button class=\"colab-df-convert\" onclick=\"convertToInteractive('df-a06b6e44-64d8-4905-a536-cbcb69956ec7')\"\n",
              "            title=\"Convert this dataframe to an interactive table.\"\n",
              "            style=\"display:none;\">\n",
              "\n",
              "  <svg xmlns=\"http://www.w3.org/2000/svg\" height=\"24px\" viewBox=\"0 -960 960 960\">\n",
              "    <path d=\"M120-120v-720h720v720H120Zm60-500h600v-160H180v160Zm220 220h160v-160H400v160Zm0 220h160v-160H400v160ZM180-400h160v-160H180v160Zm440 0h160v-160H620v160ZM180-180h160v-160H180v160Zm440 0h160v-160H620v160Z\"/>\n",
              "  </svg>\n",
              "    </button>\n",
              "\n",
              "  <style>\n",
              "    .colab-df-container {\n",
              "      display:flex;\n",
              "      gap: 12px;\n",
              "    }\n",
              "\n",
              "    .colab-df-convert {\n",
              "      background-color: #E8F0FE;\n",
              "      border: none;\n",
              "      border-radius: 50%;\n",
              "      cursor: pointer;\n",
              "      display: none;\n",
              "      fill: #1967D2;\n",
              "      height: 32px;\n",
              "      padding: 0 0 0 0;\n",
              "      width: 32px;\n",
              "    }\n",
              "\n",
              "    .colab-df-convert:hover {\n",
              "      background-color: #E2EBFA;\n",
              "      box-shadow: 0px 1px 2px rgba(60, 64, 67, 0.3), 0px 1px 3px 1px rgba(60, 64, 67, 0.15);\n",
              "      fill: #174EA6;\n",
              "    }\n",
              "\n",
              "    .colab-df-buttons div {\n",
              "      margin-bottom: 4px;\n",
              "    }\n",
              "\n",
              "    [theme=dark] .colab-df-convert {\n",
              "      background-color: #3B4455;\n",
              "      fill: #D2E3FC;\n",
              "    }\n",
              "\n",
              "    [theme=dark] .colab-df-convert:hover {\n",
              "      background-color: #434B5C;\n",
              "      box-shadow: 0px 1px 3px 1px rgba(0, 0, 0, 0.15);\n",
              "      filter: drop-shadow(0px 1px 2px rgba(0, 0, 0, 0.3));\n",
              "      fill: #FFFFFF;\n",
              "    }\n",
              "  </style>\n",
              "\n",
              "    <script>\n",
              "      const buttonEl =\n",
              "        document.querySelector('#df-a06b6e44-64d8-4905-a536-cbcb69956ec7 button.colab-df-convert');\n",
              "      buttonEl.style.display =\n",
              "        google.colab.kernel.accessAllowed ? 'block' : 'none';\n",
              "\n",
              "      async function convertToInteractive(key) {\n",
              "        const element = document.querySelector('#df-a06b6e44-64d8-4905-a536-cbcb69956ec7');\n",
              "        const dataTable =\n",
              "          await google.colab.kernel.invokeFunction('convertToInteractive',\n",
              "                                                    [key], {});\n",
              "        if (!dataTable) return;\n",
              "\n",
              "        const docLinkHtml = 'Like what you see? Visit the ' +\n",
              "          '<a target=\"_blank\" href=https://colab.research.google.com/notebooks/data_table.ipynb>data table notebook</a>'\n",
              "          + ' to learn more about interactive tables.';\n",
              "        element.innerHTML = '';\n",
              "        dataTable['output_type'] = 'display_data';\n",
              "        await google.colab.output.renderOutput(dataTable, element);\n",
              "        const docLink = document.createElement('div');\n",
              "        docLink.innerHTML = docLinkHtml;\n",
              "        element.appendChild(docLink);\n",
              "      }\n",
              "    </script>\n",
              "  </div>\n",
              "\n",
              "\n",
              "<div id=\"df-9f2a83eb-1e1a-4859-adbd-1c85a5a1e252\">\n",
              "  <button class=\"colab-df-quickchart\" onclick=\"quickchart('df-9f2a83eb-1e1a-4859-adbd-1c85a5a1e252')\"\n",
              "            title=\"Suggest charts\"\n",
              "            style=\"display:none;\">\n",
              "\n",
              "<svg xmlns=\"http://www.w3.org/2000/svg\" height=\"24px\"viewBox=\"0 0 24 24\"\n",
              "     width=\"24px\">\n",
              "    <g>\n",
              "        <path d=\"M19 3H5c-1.1 0-2 .9-2 2v14c0 1.1.9 2 2 2h14c1.1 0 2-.9 2-2V5c0-1.1-.9-2-2-2zM9 17H7v-7h2v7zm4 0h-2V7h2v10zm4 0h-2v-4h2v4z\"/>\n",
              "    </g>\n",
              "</svg>\n",
              "  </button>\n",
              "\n",
              "<style>\n",
              "  .colab-df-quickchart {\n",
              "      --bg-color: #E8F0FE;\n",
              "      --fill-color: #1967D2;\n",
              "      --hover-bg-color: #E2EBFA;\n",
              "      --hover-fill-color: #174EA6;\n",
              "      --disabled-fill-color: #AAA;\n",
              "      --disabled-bg-color: #DDD;\n",
              "  }\n",
              "\n",
              "  [theme=dark] .colab-df-quickchart {\n",
              "      --bg-color: #3B4455;\n",
              "      --fill-color: #D2E3FC;\n",
              "      --hover-bg-color: #434B5C;\n",
              "      --hover-fill-color: #FFFFFF;\n",
              "      --disabled-bg-color: #3B4455;\n",
              "      --disabled-fill-color: #666;\n",
              "  }\n",
              "\n",
              "  .colab-df-quickchart {\n",
              "    background-color: var(--bg-color);\n",
              "    border: none;\n",
              "    border-radius: 50%;\n",
              "    cursor: pointer;\n",
              "    display: none;\n",
              "    fill: var(--fill-color);\n",
              "    height: 32px;\n",
              "    padding: 0;\n",
              "    width: 32px;\n",
              "  }\n",
              "\n",
              "  .colab-df-quickchart:hover {\n",
              "    background-color: var(--hover-bg-color);\n",
              "    box-shadow: 0 1px 2px rgba(60, 64, 67, 0.3), 0 1px 3px 1px rgba(60, 64, 67, 0.15);\n",
              "    fill: var(--button-hover-fill-color);\n",
              "  }\n",
              "\n",
              "  .colab-df-quickchart-complete:disabled,\n",
              "  .colab-df-quickchart-complete:disabled:hover {\n",
              "    background-color: var(--disabled-bg-color);\n",
              "    fill: var(--disabled-fill-color);\n",
              "    box-shadow: none;\n",
              "  }\n",
              "\n",
              "  .colab-df-spinner {\n",
              "    border: 2px solid var(--fill-color);\n",
              "    border-color: transparent;\n",
              "    border-bottom-color: var(--fill-color);\n",
              "    animation:\n",
              "      spin 1s steps(1) infinite;\n",
              "  }\n",
              "\n",
              "  @keyframes spin {\n",
              "    0% {\n",
              "      border-color: transparent;\n",
              "      border-bottom-color: var(--fill-color);\n",
              "      border-left-color: var(--fill-color);\n",
              "    }\n",
              "    20% {\n",
              "      border-color: transparent;\n",
              "      border-left-color: var(--fill-color);\n",
              "      border-top-color: var(--fill-color);\n",
              "    }\n",
              "    30% {\n",
              "      border-color: transparent;\n",
              "      border-left-color: var(--fill-color);\n",
              "      border-top-color: var(--fill-color);\n",
              "      border-right-color: var(--fill-color);\n",
              "    }\n",
              "    40% {\n",
              "      border-color: transparent;\n",
              "      border-right-color: var(--fill-color);\n",
              "      border-top-color: var(--fill-color);\n",
              "    }\n",
              "    60% {\n",
              "      border-color: transparent;\n",
              "      border-right-color: var(--fill-color);\n",
              "    }\n",
              "    80% {\n",
              "      border-color: transparent;\n",
              "      border-right-color: var(--fill-color);\n",
              "      border-bottom-color: var(--fill-color);\n",
              "    }\n",
              "    90% {\n",
              "      border-color: transparent;\n",
              "      border-bottom-color: var(--fill-color);\n",
              "    }\n",
              "  }\n",
              "</style>\n",
              "\n",
              "  <script>\n",
              "    async function quickchart(key) {\n",
              "      const quickchartButtonEl =\n",
              "        document.querySelector('#' + key + ' button');\n",
              "      quickchartButtonEl.disabled = true;  // To prevent multiple clicks.\n",
              "      quickchartButtonEl.classList.add('colab-df-spinner');\n",
              "      try {\n",
              "        const charts = await google.colab.kernel.invokeFunction(\n",
              "            'suggestCharts', [key], {});\n",
              "      } catch (error) {\n",
              "        console.error('Error during call to suggestCharts:', error);\n",
              "      }\n",
              "      quickchartButtonEl.classList.remove('colab-df-spinner');\n",
              "      quickchartButtonEl.classList.add('colab-df-quickchart-complete');\n",
              "    }\n",
              "    (() => {\n",
              "      let quickchartButtonEl =\n",
              "        document.querySelector('#df-9f2a83eb-1e1a-4859-adbd-1c85a5a1e252 button');\n",
              "      quickchartButtonEl.style.display =\n",
              "        google.colab.kernel.accessAllowed ? 'block' : 'none';\n",
              "    })();\n",
              "  </script>\n",
              "</div>\n",
              "\n",
              "    </div>\n",
              "  </div>\n"
            ],
            "application/vnd.google.colaboratory.intrinsic+json": {
              "type": "dataframe",
              "variable_name": "df_estudantes",
              "summary": "{\n  \"name\": \"df_estudantes\",\n  \"rows\": 14,\n  \"fields\": [\n    {\n      \"column\": \"NOME\",\n      \"properties\": {\n        \"dtype\": \"string\",\n        \"num_unique_values\": 14,\n        \"samples\": [\n          \"Gabriel\",\n          \"Matheus\",\n          \"Ana\"\n        ],\n        \"semantic_type\": \"\",\n        \"description\": \"\"\n      }\n    },\n    {\n      \"column\": \"USUARIO\",\n      \"properties\": {\n        \"dtype\": \"string\",\n        \"num_unique_values\": 14,\n        \"samples\": [\n          \"gabriel\",\n          \"matheus\",\n          \"ana\"\n        ],\n        \"semantic_type\": \"\",\n        \"description\": \"\"\n      }\n    },\n    {\n      \"column\": \"ANO_FORMATURA\",\n      \"properties\": {\n        \"dtype\": \"number\",\n        \"std\": 2,\n        \"min\": 2023,\n        \"max\": 2029,\n        \"num_unique_values\": 6,\n        \"samples\": [\n          2029,\n          2026,\n          2028\n        ],\n        \"semantic_type\": \"\",\n        \"description\": \"\"\n      }\n    },\n    {\n      \"column\": \"SCORE_MATEMATICA\",\n      \"properties\": {\n        \"dtype\": \"number\",\n        \"std\": 3,\n        \"min\": 2,\n        \"max\": 10,\n        \"num_unique_values\": 6,\n        \"samples\": [\n          4,\n          2,\n          9\n        ],\n        \"semantic_type\": \"\",\n        \"description\": \"\"\n      }\n    },\n    {\n      \"column\": \"SCORE_PORTUGUES_\",\n      \"properties\": {\n        \"dtype\": \"number\",\n        \"std\": 3,\n        \"min\": 1,\n        \"max\": 10,\n        \"num_unique_values\": 7,\n        \"samples\": [\n          6,\n          7,\n          10\n        ],\n        \"semantic_type\": \"\",\n        \"description\": \"\"\n      }\n    },\n    {\n      \"column\": \"SCORE_BIOLOGIA\",\n      \"properties\": {\n        \"dtype\": \"number\",\n        \"std\": 3,\n        \"min\": 1,\n        \"max\": 10,\n        \"num_unique_values\": 7,\n        \"samples\": [\n          8,\n          7,\n          5\n        ],\n        \"semantic_type\": \"\",\n        \"description\": \"\"\n      }\n    },\n    {\n      \"column\": \"SCORE_FISICA\",\n      \"properties\": {\n        \"dtype\": \"number\",\n        \"std\": 2,\n        \"min\": 2,\n        \"max\": 10,\n        \"num_unique_values\": 8,\n        \"samples\": [\n          7,\n          6,\n          8\n        ],\n        \"semantic_type\": \"\",\n        \"description\": \"\"\n      }\n    },\n    {\n      \"column\": \"SCORE_COMPUTACAO\",\n      \"properties\": {\n        \"dtype\": \"number\",\n        \"std\": 3,\n        \"min\": 0,\n        \"max\": 10,\n        \"num_unique_values\": 8,\n        \"samples\": [\n          2,\n          1,\n          3\n        ],\n        \"semantic_type\": \"\",\n        \"description\": \"\"\n      }\n    },\n    {\n      \"column\": \"SCORE_FILOSOFIA\",\n      \"properties\": {\n        \"dtype\": \"number\",\n        \"std\": 3,\n        \"min\": 1,\n        \"max\": 10,\n        \"num_unique_values\": 8,\n        \"samples\": [\n          4,\n          10,\n          5\n        ],\n        \"semantic_type\": \"\",\n        \"description\": \"\"\n      }\n    },\n    {\n      \"column\": \"SCORE_PROJETOS\",\n      \"properties\": {\n        \"dtype\": \"number\",\n        \"std\": 3,\n        \"min\": 0,\n        \"max\": 10,\n        \"num_unique_values\": 9,\n        \"samples\": [\n          7,\n          0,\n          9\n        ],\n        \"semantic_type\": \"\",\n        \"description\": \"\"\n      }\n    },\n    {\n      \"column\": \"SCORE_ATIVIDADES_SOCIAIS\",\n      \"properties\": {\n        \"dtype\": \"number\",\n        \"std\": 3,\n        \"min\": 0,\n        \"max\": 10,\n        \"num_unique_values\": 9,\n        \"samples\": [\n          5,\n          8,\n          0\n        ],\n        \"semantic_type\": \"\",\n        \"description\": \"\"\n      }\n    },\n    {\n      \"column\": \"SCORE_PUBLICACOES\",\n      \"properties\": {\n        \"dtype\": \"number\",\n        \"std\": 2,\n        \"min\": 0,\n        \"max\": 10,\n        \"num_unique_values\": 9,\n        \"samples\": [\n          5,\n          10,\n          9\n        ],\n        \"semantic_type\": \"\",\n        \"description\": \"\"\n      }\n    },\n    {\n      \"column\": \"LISTA_AREAS_PREFERIDAS\",\n      \"properties\": {\n        \"dtype\": \"string\",\n        \"num_unique_values\": 12,\n        \"samples\": [\n          \"['Sa\\u00fade', 'Artes', 'Ci\\u00eancias']\",\n          \"['Sa\\u00fade', 'Ci\\u00eancias']\",\n          \"['Humanas']\"\n        ],\n        \"semantic_type\": \"\",\n        \"description\": \"\"\n      }\n    },\n    {\n      \"column\": \"PROEFICIENCIA_INGLES\",\n      \"properties\": {\n        \"dtype\": \"number\",\n        \"std\": 1.0868848519133392,\n        \"min\": 5.5,\n        \"max\": 9.0,\n        \"num_unique_values\": 7,\n        \"samples\": [\n          5.5,\n          7.5,\n          9.0\n        ],\n        \"semantic_type\": \"\",\n        \"description\": \"\"\n      }\n    },\n    {\n      \"column\": \"PROEFICIENCIA_ESPANHOL\",\n      \"properties\": {\n        \"dtype\": \"number\",\n        \"std\": 1.4866623137635646,\n        \"min\": 5.5,\n        \"max\": 9.0,\n        \"num_unique_values\": 4,\n        \"samples\": [\n          9.0,\n          7.0,\n          5.5\n        ],\n        \"semantic_type\": \"\",\n        \"description\": \"\"\n      }\n    },\n    {\n      \"column\": \"LISTA_PAISES_PREFERIDOS\",\n      \"properties\": {\n        \"dtype\": \"string\",\n        \"num_unique_values\": 14,\n        \"samples\": [\n          \"['Estados Unidos', 'Austr\\u00e1lia', 'Canad\\u00e1']\",\n          \"['Estados Unidos', 'Reino Unido']\",\n          \"['Brasil', 'Alemanha']\"\n        ],\n        \"semantic_type\": \"\",\n        \"description\": \"\"\n      }\n    },\n    {\n      \"column\": \"LISTA_UNIVERSIDADES_PREFERIDAS\",\n      \"properties\": {\n        \"dtype\": \"string\",\n        \"num_unique_values\": 14,\n        \"samples\": [\n          \"['Harvard', 'Australian National University', 'University of Toronto']\",\n          \"['Harvard', 'Oxford']\",\n          \"['UNICAMP', 'Technical University of Berlin']\"\n        ],\n        \"semantic_type\": \"\",\n        \"description\": \"\"\n      }\n    }\n  ]\n}"
            }
          },
          "metadata": {},
          "execution_count": 7
        }
      ]
    },
    {
      "cell_type": "code",
      "source": [
        "df_estudantes.shape"
      ],
      "metadata": {
        "colab": {
          "base_uri": "https://localhost:8080/"
        },
        "id": "WaKVkyZAhX02",
        "outputId": "dfabaadb-bcba-4238-8268-32665d5b84ea"
      },
      "execution_count": 8,
      "outputs": [
        {
          "output_type": "execute_result",
          "data": {
            "text/plain": [
              "(14, 17)"
            ]
          },
          "metadata": {},
          "execution_count": 8
        }
      ]
    },
    {
      "cell_type": "code",
      "source": [
        "df_universidades.head(2)"
      ],
      "metadata": {
        "colab": {
          "base_uri": "https://localhost:8080/",
          "height": 112
        },
        "id": "v9UBV9KMhcrC",
        "outputId": "b745b36d-5d6d-4a68-95d3-fb9f307a7e23"
      },
      "execution_count": 9,
      "outputs": [
        {
          "output_type": "execute_result",
          "data": {
            "text/plain": [
              "  NOME_FACULDADE    PAIS                         CRITERIOS_SELECAO  \\\n",
              "0            USP  Brasil  Exame de admissão, Notas do Ensino Médio   \n",
              "1        UNICAMP  Brasil  Exame de admissão, Notas do Ensino Médio   \n",
              "\n",
              "                 CURSOS_DESTAQUE  \\\n",
              "0  Medicina, Engenharia, Direito   \n",
              "1    Computação, Física, Química   \n",
              "\n",
              "                                     PERFIL_DESEJADO  \n",
              "0  Inovadores, Comprometidos, Pró-ativos, Pesquis...  \n",
              "1                 Criativos, Analíticos, Detalhistas  "
            ],
            "text/html": [
              "\n",
              "  <div id=\"df-b5cbe7e4-ea0c-479d-86a2-f7ef7b45ffd4\" class=\"colab-df-container\">\n",
              "    <div>\n",
              "<style scoped>\n",
              "    .dataframe tbody tr th:only-of-type {\n",
              "        vertical-align: middle;\n",
              "    }\n",
              "\n",
              "    .dataframe tbody tr th {\n",
              "        vertical-align: top;\n",
              "    }\n",
              "\n",
              "    .dataframe thead th {\n",
              "        text-align: right;\n",
              "    }\n",
              "</style>\n",
              "<table border=\"1\" class=\"dataframe\">\n",
              "  <thead>\n",
              "    <tr style=\"text-align: right;\">\n",
              "      <th></th>\n",
              "      <th>NOME_FACULDADE</th>\n",
              "      <th>PAIS</th>\n",
              "      <th>CRITERIOS_SELECAO</th>\n",
              "      <th>CURSOS_DESTAQUE</th>\n",
              "      <th>PERFIL_DESEJADO</th>\n",
              "    </tr>\n",
              "  </thead>\n",
              "  <tbody>\n",
              "    <tr>\n",
              "      <th>0</th>\n",
              "      <td>USP</td>\n",
              "      <td>Brasil</td>\n",
              "      <td>Exame de admissão, Notas do Ensino Médio</td>\n",
              "      <td>Medicina, Engenharia, Direito</td>\n",
              "      <td>Inovadores, Comprometidos, Pró-ativos, Pesquis...</td>\n",
              "    </tr>\n",
              "    <tr>\n",
              "      <th>1</th>\n",
              "      <td>UNICAMP</td>\n",
              "      <td>Brasil</td>\n",
              "      <td>Exame de admissão, Notas do Ensino Médio</td>\n",
              "      <td>Computação, Física, Química</td>\n",
              "      <td>Criativos, Analíticos, Detalhistas</td>\n",
              "    </tr>\n",
              "  </tbody>\n",
              "</table>\n",
              "</div>\n",
              "    <div class=\"colab-df-buttons\">\n",
              "\n",
              "  <div class=\"colab-df-container\">\n",
              "    <button class=\"colab-df-convert\" onclick=\"convertToInteractive('df-b5cbe7e4-ea0c-479d-86a2-f7ef7b45ffd4')\"\n",
              "            title=\"Convert this dataframe to an interactive table.\"\n",
              "            style=\"display:none;\">\n",
              "\n",
              "  <svg xmlns=\"http://www.w3.org/2000/svg\" height=\"24px\" viewBox=\"0 -960 960 960\">\n",
              "    <path d=\"M120-120v-720h720v720H120Zm60-500h600v-160H180v160Zm220 220h160v-160H400v160Zm0 220h160v-160H400v160ZM180-400h160v-160H180v160Zm440 0h160v-160H620v160ZM180-180h160v-160H180v160Zm440 0h160v-160H620v160Z\"/>\n",
              "  </svg>\n",
              "    </button>\n",
              "\n",
              "  <style>\n",
              "    .colab-df-container {\n",
              "      display:flex;\n",
              "      gap: 12px;\n",
              "    }\n",
              "\n",
              "    .colab-df-convert {\n",
              "      background-color: #E8F0FE;\n",
              "      border: none;\n",
              "      border-radius: 50%;\n",
              "      cursor: pointer;\n",
              "      display: none;\n",
              "      fill: #1967D2;\n",
              "      height: 32px;\n",
              "      padding: 0 0 0 0;\n",
              "      width: 32px;\n",
              "    }\n",
              "\n",
              "    .colab-df-convert:hover {\n",
              "      background-color: #E2EBFA;\n",
              "      box-shadow: 0px 1px 2px rgba(60, 64, 67, 0.3), 0px 1px 3px 1px rgba(60, 64, 67, 0.15);\n",
              "      fill: #174EA6;\n",
              "    }\n",
              "\n",
              "    .colab-df-buttons div {\n",
              "      margin-bottom: 4px;\n",
              "    }\n",
              "\n",
              "    [theme=dark] .colab-df-convert {\n",
              "      background-color: #3B4455;\n",
              "      fill: #D2E3FC;\n",
              "    }\n",
              "\n",
              "    [theme=dark] .colab-df-convert:hover {\n",
              "      background-color: #434B5C;\n",
              "      box-shadow: 0px 1px 3px 1px rgba(0, 0, 0, 0.15);\n",
              "      filter: drop-shadow(0px 1px 2px rgba(0, 0, 0, 0.3));\n",
              "      fill: #FFFFFF;\n",
              "    }\n",
              "  </style>\n",
              "\n",
              "    <script>\n",
              "      const buttonEl =\n",
              "        document.querySelector('#df-b5cbe7e4-ea0c-479d-86a2-f7ef7b45ffd4 button.colab-df-convert');\n",
              "      buttonEl.style.display =\n",
              "        google.colab.kernel.accessAllowed ? 'block' : 'none';\n",
              "\n",
              "      async function convertToInteractive(key) {\n",
              "        const element = document.querySelector('#df-b5cbe7e4-ea0c-479d-86a2-f7ef7b45ffd4');\n",
              "        const dataTable =\n",
              "          await google.colab.kernel.invokeFunction('convertToInteractive',\n",
              "                                                    [key], {});\n",
              "        if (!dataTable) return;\n",
              "\n",
              "        const docLinkHtml = 'Like what you see? Visit the ' +\n",
              "          '<a target=\"_blank\" href=https://colab.research.google.com/notebooks/data_table.ipynb>data table notebook</a>'\n",
              "          + ' to learn more about interactive tables.';\n",
              "        element.innerHTML = '';\n",
              "        dataTable['output_type'] = 'display_data';\n",
              "        await google.colab.output.renderOutput(dataTable, element);\n",
              "        const docLink = document.createElement('div');\n",
              "        docLink.innerHTML = docLinkHtml;\n",
              "        element.appendChild(docLink);\n",
              "      }\n",
              "    </script>\n",
              "  </div>\n",
              "\n",
              "\n",
              "<div id=\"df-a54c1a49-bd99-45a3-8119-765a8af4fd50\">\n",
              "  <button class=\"colab-df-quickchart\" onclick=\"quickchart('df-a54c1a49-bd99-45a3-8119-765a8af4fd50')\"\n",
              "            title=\"Suggest charts\"\n",
              "            style=\"display:none;\">\n",
              "\n",
              "<svg xmlns=\"http://www.w3.org/2000/svg\" height=\"24px\"viewBox=\"0 0 24 24\"\n",
              "     width=\"24px\">\n",
              "    <g>\n",
              "        <path d=\"M19 3H5c-1.1 0-2 .9-2 2v14c0 1.1.9 2 2 2h14c1.1 0 2-.9 2-2V5c0-1.1-.9-2-2-2zM9 17H7v-7h2v7zm4 0h-2V7h2v10zm4 0h-2v-4h2v4z\"/>\n",
              "    </g>\n",
              "</svg>\n",
              "  </button>\n",
              "\n",
              "<style>\n",
              "  .colab-df-quickchart {\n",
              "      --bg-color: #E8F0FE;\n",
              "      --fill-color: #1967D2;\n",
              "      --hover-bg-color: #E2EBFA;\n",
              "      --hover-fill-color: #174EA6;\n",
              "      --disabled-fill-color: #AAA;\n",
              "      --disabled-bg-color: #DDD;\n",
              "  }\n",
              "\n",
              "  [theme=dark] .colab-df-quickchart {\n",
              "      --bg-color: #3B4455;\n",
              "      --fill-color: #D2E3FC;\n",
              "      --hover-bg-color: #434B5C;\n",
              "      --hover-fill-color: #FFFFFF;\n",
              "      --disabled-bg-color: #3B4455;\n",
              "      --disabled-fill-color: #666;\n",
              "  }\n",
              "\n",
              "  .colab-df-quickchart {\n",
              "    background-color: var(--bg-color);\n",
              "    border: none;\n",
              "    border-radius: 50%;\n",
              "    cursor: pointer;\n",
              "    display: none;\n",
              "    fill: var(--fill-color);\n",
              "    height: 32px;\n",
              "    padding: 0;\n",
              "    width: 32px;\n",
              "  }\n",
              "\n",
              "  .colab-df-quickchart:hover {\n",
              "    background-color: var(--hover-bg-color);\n",
              "    box-shadow: 0 1px 2px rgba(60, 64, 67, 0.3), 0 1px 3px 1px rgba(60, 64, 67, 0.15);\n",
              "    fill: var(--button-hover-fill-color);\n",
              "  }\n",
              "\n",
              "  .colab-df-quickchart-complete:disabled,\n",
              "  .colab-df-quickchart-complete:disabled:hover {\n",
              "    background-color: var(--disabled-bg-color);\n",
              "    fill: var(--disabled-fill-color);\n",
              "    box-shadow: none;\n",
              "  }\n",
              "\n",
              "  .colab-df-spinner {\n",
              "    border: 2px solid var(--fill-color);\n",
              "    border-color: transparent;\n",
              "    border-bottom-color: var(--fill-color);\n",
              "    animation:\n",
              "      spin 1s steps(1) infinite;\n",
              "  }\n",
              "\n",
              "  @keyframes spin {\n",
              "    0% {\n",
              "      border-color: transparent;\n",
              "      border-bottom-color: var(--fill-color);\n",
              "      border-left-color: var(--fill-color);\n",
              "    }\n",
              "    20% {\n",
              "      border-color: transparent;\n",
              "      border-left-color: var(--fill-color);\n",
              "      border-top-color: var(--fill-color);\n",
              "    }\n",
              "    30% {\n",
              "      border-color: transparent;\n",
              "      border-left-color: var(--fill-color);\n",
              "      border-top-color: var(--fill-color);\n",
              "      border-right-color: var(--fill-color);\n",
              "    }\n",
              "    40% {\n",
              "      border-color: transparent;\n",
              "      border-right-color: var(--fill-color);\n",
              "      border-top-color: var(--fill-color);\n",
              "    }\n",
              "    60% {\n",
              "      border-color: transparent;\n",
              "      border-right-color: var(--fill-color);\n",
              "    }\n",
              "    80% {\n",
              "      border-color: transparent;\n",
              "      border-right-color: var(--fill-color);\n",
              "      border-bottom-color: var(--fill-color);\n",
              "    }\n",
              "    90% {\n",
              "      border-color: transparent;\n",
              "      border-bottom-color: var(--fill-color);\n",
              "    }\n",
              "  }\n",
              "</style>\n",
              "\n",
              "  <script>\n",
              "    async function quickchart(key) {\n",
              "      const quickchartButtonEl =\n",
              "        document.querySelector('#' + key + ' button');\n",
              "      quickchartButtonEl.disabled = true;  // To prevent multiple clicks.\n",
              "      quickchartButtonEl.classList.add('colab-df-spinner');\n",
              "      try {\n",
              "        const charts = await google.colab.kernel.invokeFunction(\n",
              "            'suggestCharts', [key], {});\n",
              "      } catch (error) {\n",
              "        console.error('Error during call to suggestCharts:', error);\n",
              "      }\n",
              "      quickchartButtonEl.classList.remove('colab-df-spinner');\n",
              "      quickchartButtonEl.classList.add('colab-df-quickchart-complete');\n",
              "    }\n",
              "    (() => {\n",
              "      let quickchartButtonEl =\n",
              "        document.querySelector('#df-a54c1a49-bd99-45a3-8119-765a8af4fd50 button');\n",
              "      quickchartButtonEl.style.display =\n",
              "        google.colab.kernel.accessAllowed ? 'block' : 'none';\n",
              "    })();\n",
              "  </script>\n",
              "</div>\n",
              "\n",
              "    </div>\n",
              "  </div>\n"
            ],
            "application/vnd.google.colaboratory.intrinsic+json": {
              "type": "dataframe",
              "variable_name": "df_universidades",
              "summary": "{\n  \"name\": \"df_universidades\",\n  \"rows\": 18,\n  \"fields\": [\n    {\n      \"column\": \"NOME_FACULDADE\",\n      \"properties\": {\n        \"dtype\": \"string\",\n        \"num_unique_values\": 18,\n        \"samples\": [\n          \"USP\",\n          \"UNICAMP\",\n          \"Imperial College\"\n        ],\n        \"semantic_type\": \"\",\n        \"description\": \"\"\n      }\n    },\n    {\n      \"column\": \"PAIS\",\n      \"properties\": {\n        \"dtype\": \"category\",\n        \"num_unique_values\": 6,\n        \"samples\": [\n          \"Brasil\",\n          \"Estados Unidos\",\n          \"Alemanha\"\n        ],\n        \"semantic_type\": \"\",\n        \"description\": \"\"\n      }\n    },\n    {\n      \"column\": \"CRITERIOS_SELECAO\",\n      \"properties\": {\n        \"dtype\": \"category\",\n        \"num_unique_values\": 6,\n        \"samples\": [\n          \"Exame de admiss\\u00e3o, Notas do Ensino M\\u00e9dio\",\n          \"SAT/ACT, Essays, Recomenda\\u00e7\\u00f5es\",\n          \"Abitur, Entrevista, Notas do Ensino M\\u00e9dio\"\n        ],\n        \"semantic_type\": \"\",\n        \"description\": \"\"\n      }\n    },\n    {\n      \"column\": \"CURSOS_DESTAQUE\",\n      \"properties\": {\n        \"dtype\": \"string\",\n        \"num_unique_values\": 18,\n        \"samples\": [\n          \"Medicina, Engenharia, Direito\",\n          \"Computa\\u00e7\\u00e3o, F\\u00edsica, Qu\\u00edmica\",\n          \"Engenharia, Medicina, Qu\\u00edmica\"\n        ],\n        \"semantic_type\": \"\",\n        \"description\": \"\"\n      }\n    },\n    {\n      \"column\": \"PERFIL_DESEJADO\",\n      \"properties\": {\n        \"dtype\": \"string\",\n        \"num_unique_values\": 18,\n        \"samples\": [\n          \"Inovadores, Comprometidos, Pr\\u00f3-ativos, Pesquisas cient\\u00edficas\",\n          \"Criativos, Anal\\u00edticos, Detalhistas\",\n          \"Pesquisadores, Motivados, Inovadores\"\n        ],\n        \"semantic_type\": \"\",\n        \"description\": \"\"\n      }\n    }\n  ]\n}"
            }
          },
          "metadata": {},
          "execution_count": 9
        }
      ]
    },
    {
      "cell_type": "code",
      "source": [
        "df_universidades.shape"
      ],
      "metadata": {
        "colab": {
          "base_uri": "https://localhost:8080/"
        },
        "id": "zgWWN1iGhfLw",
        "outputId": "dcddec41-4513-4f0b-b3d5-c2da66016cd7"
      },
      "execution_count": 10,
      "outputs": [
        {
          "output_type": "execute_result",
          "data": {
            "text/plain": [
              "(18, 5)"
            ]
          },
          "metadata": {},
          "execution_count": 10
        }
      ]
    },
    {
      "cell_type": "markdown",
      "source": [
        "## Verificando a qualidade dos dataframes 🔬\n",
        "\n",
        "Verificando se os dataframes não apresentam dados nulos, NaN ou duplicados"
      ],
      "metadata": {
        "id": "7m_AepUQh2Mh"
      }
    },
    {
      "cell_type": "code",
      "source": [
        "df_estudantes.duplicated().sum()"
      ],
      "metadata": {
        "colab": {
          "base_uri": "https://localhost:8080/"
        },
        "id": "7a9J2P7aiCfv",
        "outputId": "a66ae4d7-04af-460f-d32f-1ae2a818edc5"
      },
      "execution_count": 11,
      "outputs": [
        {
          "output_type": "execute_result",
          "data": {
            "text/plain": [
              "0"
            ]
          },
          "metadata": {},
          "execution_count": 11
        }
      ]
    },
    {
      "cell_type": "code",
      "source": [
        "df_universidades.duplicated().sum()"
      ],
      "metadata": {
        "colab": {
          "base_uri": "https://localhost:8080/"
        },
        "id": "kgqtwezwiEdn",
        "outputId": "b2665ed3-fda2-4d69-9cf6-bb3939a6eca4"
      },
      "execution_count": 12,
      "outputs": [
        {
          "output_type": "execute_result",
          "data": {
            "text/plain": [
              "0"
            ]
          },
          "metadata": {},
          "execution_count": 12
        }
      ]
    },
    {
      "cell_type": "code",
      "source": [
        "df_estudantes.isna().sum().sum()"
      ],
      "metadata": {
        "colab": {
          "base_uri": "https://localhost:8080/"
        },
        "id": "ZdfhbP_yiGGm",
        "outputId": "9222c4cb-daa7-45fe-a8f5-f27e12711268"
      },
      "execution_count": 13,
      "outputs": [
        {
          "output_type": "execute_result",
          "data": {
            "text/plain": [
              "0"
            ]
          },
          "metadata": {},
          "execution_count": 13
        }
      ]
    },
    {
      "cell_type": "code",
      "source": [
        "df_universidades.isna().sum().sum()\n"
      ],
      "metadata": {
        "colab": {
          "base_uri": "https://localhost:8080/"
        },
        "id": "7b6MzhdPiHg5",
        "outputId": "40df92e6-b8e1-439b-932e-3444d1a662af"
      },
      "execution_count": 14,
      "outputs": [
        {
          "output_type": "execute_result",
          "data": {
            "text/plain": [
              "0"
            ]
          },
          "metadata": {},
          "execution_count": 14
        }
      ]
    },
    {
      "cell_type": "markdown",
      "source": [
        "Após a verificação dos dados no dataframe, observou-se que os arquivos estão próprios para uso, uma vez que não apresentam dados NaN, nulos ou duplicados."
      ],
      "metadata": {
        "id": "64I_RK-wiLn3"
      }
    },
    {
      "cell_type": "markdown",
      "source": [
        "# Criando ferramentas com LangChain 🛠️\n",
        "\n",
        "As ferramentas para a aplicação atual serão realizadas considerando o escopo dos estudantes, seu conjunto de dados, e das universidades presentes.\n",
        "\n",
        "A partir da união dessas duas ferramentas será possível unir tanto o conhecimento do perfil do usuário e seus pontos fortes e fracos, com as características das faculdades presentes, de modo a prover uma indicação assertiva ao estudante acerca das universidades que ele pode ingressar."
      ],
      "metadata": {
        "id": "YfOQbVaDiZz1"
      }
    },
    {
      "cell_type": "markdown",
      "source": [
        "#Ferramenta referente aos estudantes *🎓*"
      ],
      "metadata": {
        "id": "uuK1muT93xbN"
      }
    },
    {
      "cell_type": "markdown",
      "source": [
        "Criando a ferramenta que realiza a extração dos dados dos estudantes no dataframe que armazena a informação desses."
      ],
      "metadata": {
        "id": "rIZnBgxWFeMO"
      }
    },
    {
      "cell_type": "code",
      "source": [
        "def consulta_estudantes(estudante):\n",
        "\n",
        "  dados_estudante = df_estudantes[df_estudantes[\"USUARIO\"] == estudante]\n",
        "\n",
        "  if dados_estudante.empty:\n",
        "    return {}\n",
        "  else:\n",
        "    return dados_estudante.iloc[:1].to_dict()"
      ],
      "metadata": {
        "id": "U-QMCdNVB3s4"
      },
      "execution_count": 76,
      "outputs": []
    },
    {
      "cell_type": "markdown",
      "source": [
        "## Ferramenta que realiza a extração dos dados dos estudantes"
      ],
      "metadata": {
        "id": "j7O552OjIqDN"
      }
    },
    {
      "cell_type": "code",
      "source": [
        "# Classe que formata a saída da extração dos estudantes\n",
        "\n",
        "class ExtratorDeEstudante(BaseModel):\n",
        "\n",
        "  estudante : str = Field(\n",
        "      \"\"\"\n",
        "      Nome do estudante informado, sempre em letras minúsculas.\n",
        "      Exemplo : ana, carla, eduardo, bruna, samantha\n",
        "      \"\"\"\n",
        "  )"
      ],
      "metadata": {
        "id": "5_3LTgeSqKtB"
      },
      "execution_count": 77,
      "outputs": []
    },
    {
      "cell_type": "code",
      "source": [
        "# Classe que extrai o estudante do dataset,\n",
        "# servindo como ferramenta ao Agent para a realização\n",
        "# de sua tarefa.\n",
        "\n",
        "class DadosEstudantes(BaseTool):\n",
        "\n",
        "  name = \"ExtraiDadosEstudantes\"\n",
        "  description = (\n",
        "                \"\"\"\n",
        "                Esta ferramenta extrai o histórico e preferências de um estudante\n",
        "                de acordo com o seu histórico.\n",
        "                \"\"\")\n",
        "\n",
        "  def _run(self, query: str) -> str:\n",
        "\n",
        "    llm_1 = ChatGoogleGenerativeAI(\n",
        "        model = \"gemini-1.5-pro-latest\",\n",
        "        temperature = 0\n",
        "        )\n",
        "\n",
        "    parser = JsonOutputParser(pydantic_model=ExtratorDeEstudante)\n",
        "\n",
        "    prompt_template_1 = PromptTemplate(\n",
        "        template = \"\"\"\n",
        "                   Extraia o nome do usuário informado no {input} e o retorne\n",
        "                   num formato JSON. A chave desse formato deve ser 'estudante'\n",
        "                   e valor deve ser o nome do usuário em letras minúsculas, seguindo\n",
        "                   o formato de saída especificado.\n",
        "\n",
        "                   Formato de saída :\n",
        "                   -------------------------------\n",
        "                   {formato_saida}\n",
        "                   -------------------------------\n",
        "                   \"\"\",\n",
        "        input_variables = [\"input\"],\n",
        "        partial_variables={\"formato_saida\" : parser.get_format_instructions()}\n",
        "    )\n",
        "\n",
        "    chain = prompt_template_1 | llm_1 | parser\n",
        "\n",
        "    response = chain.invoke({\"input\" : query})\n",
        "\n",
        "    # Usando método lower para garantir que o nome do estudante\n",
        "    # esteja no formato mínusculo, necessário para o funcionamento\n",
        "    # da ferramenta que extrai os dados dos estudantes, a partir do\n",
        "    # dataset informado.\n",
        "\n",
        "    estudante =  response[\"estudante\"].lower()\n",
        "\n",
        "    # Debug prints\n",
        "    print(\"\\nResponse from LLM:\", estudante)\n",
        "\n",
        "    dados_estudante = consulta_estudantes(estudante)\n",
        "\n",
        "    return json.dumps(dados_estudante)"
      ],
      "metadata": {
        "id": "7CK4KmUtiJXE"
      },
      "execution_count": 78,
      "outputs": []
    },
    {
      "cell_type": "markdown",
      "source": [
        "## Ferramenta que elabora o perfil dos estudantes"
      ],
      "metadata": {
        "id": "i1RuYD_8Ixlu"
      }
    },
    {
      "cell_type": "code",
      "source": [
        "class Nota(BaseModel):\n",
        "\n",
        "  disciplina : str = Field(\"Nome da disciplina\")\n",
        "  nota : float = Field(\"Nota do estudante na disciplina\")\n",
        "\n",
        "class PerfilAcademicoDoEstudante(BaseModel):\n",
        "\n",
        "  nome : str = Field(\"Nome do estudante\")\n",
        "  ano_de_conclusao : int = Field(\"Ano de conclusão do curso.\")\n",
        "\n",
        "  notas : List[Nota] = Field(\"\"\"\n",
        "                             Lista de notas das disciplinas\n",
        "                             e áreas de conhecimento do aluno.\n",
        "                             \"\"\")\n",
        "\n",
        "  resumo : str = Field(\"\"\"\n",
        "                       Identifique as principais características do estudante\n",
        "                       e a partir delas faça um resumo de seu perfil acadêmico,\n",
        "                       de modo a torná-lo único.\n",
        "\n",
        "                       Ainda, informe os pontos fortes do estudante que o torna\n",
        "                       um ótimo candidato para as instituições de ensino de seu\n",
        "                       interesse, mas também os pontos fracos, que o tornam um\n",
        "                       ruim candidato, destacando os pontos a serem melhorados.\n",
        "                       \"\"\")\n"
      ],
      "metadata": {
        "id": "t3ngTuOAfiTh"
      },
      "execution_count": 79,
      "outputs": []
    },
    {
      "cell_type": "code",
      "source": [
        "# Classe que realiza a construção do perfil acadêmico do estudante.\n",
        "\n",
        "class PerfilAcademico(BaseTool):\n",
        "\n",
        "  name = \"PerfilAcademico\"\n",
        "  description = (\n",
        "                \"\"\"\n",
        "                Essa ferramenta cria um perfil acadêmico do estudante a partir\n",
        "                de todos os dados obtidos.\n",
        "                A ferramenta não é capaz de extrair os dados do estudante, sendo necessário\n",
        "                utilizar, para isso, a ferramenta ExtraiDadosEstudantes.\n",
        "                \"\"\"\n",
        "                )\n",
        "\n",
        "  def _run(self, query: str) -> str:\n",
        "\n",
        "    llm_2 = ChatGoogleGenerativeAI(\n",
        "        model = \"gemini-1.5-pro-latest\",\n",
        "        temperature = 0.5\n",
        "        )\n",
        "\n",
        "    parser = JsonOutputParser(pydantic_model=PerfilAcademicoDoEstudante)\n",
        "\n",
        "    prompt_template_2 = PromptTemplate(\n",
        "        template = \"\"\"\n",
        "                   Formate o estudante para o seu perfil acadêmico.\n",
        "                   Com os dados, identifique as opções de universidades sugeridas\n",
        "                   e cursos compatíveis com o interesse do aluno.\n",
        "                   Destaque o perfil do aluno, dando ênfase principalmente naquilo que\n",
        "                   faz sentido para as instituições de interesse do aluno.\n",
        "\n",
        "                   Informações do estudante :\n",
        "                   {dados_estudante}\n",
        "\n",
        "                   Formato de saída :\n",
        "                   -------------------------------\n",
        "                   {formato_de_saida}\n",
        "                   -------------------------------\n",
        "                   \"\"\",\n",
        "        input_variables=[\"dados_estudante\"],\n",
        "        partial_variables={\"formato_de_saida\" : parser.get_format_instructions()})\n",
        "\n",
        "    chain = prompt_template_2 | llm_2 | parser\n",
        "\n",
        "    response = chain.invoke({\"dados_estudante\" : query})\n",
        "\n",
        "    return response"
      ],
      "metadata": {
        "id": "pT0wRXEcaVZH"
      },
      "execution_count": 80,
      "outputs": []
    },
    {
      "cell_type": "markdown",
      "source": [
        "# Ferramenta referente às universidades. 🏰"
      ],
      "metadata": {
        "id": "Fm4mmgbi33d6"
      }
    },
    {
      "cell_type": "markdown",
      "source": [
        "Criando a ferramenta responsável pela interação com o conjunto de dados das universidades.\n"
      ],
      "metadata": {
        "id": "8wcTtyMXFyux"
      }
    },
    {
      "cell_type": "code",
      "source": [
        "# Ferramenta que extrai os dados da universidade especificada.\n",
        "\n",
        "def dados_da_universidade(universidade : str):\n",
        "\n",
        "  dados_universidade = df_universidades\n",
        "  dados_universidade['NOME_FACULDADE'] = dados_universidade['NOME_FACULDADE'].str.lower()\n",
        "  dados_universidade = dados_universidade[dados_universidade[\"NOME_FACULDADE\"] == universidade]\n",
        "\n",
        "  if dados_universidade.empty:\n",
        "    return {}\n",
        "  else:\n",
        "    return dados_universidade.iloc[:1].to_dict()\n",
        "\n",
        "# Ferramenta que extrai os dados de todas as universidades.\n",
        "\n",
        "def dados_das_universidades():\n",
        "\n",
        "  dados_das_universidades = df_universidades\n",
        "  return dados_das_universidades.to_dict()\n"
      ],
      "metadata": {
        "id": "iYUKk9jc4Qqe"
      },
      "execution_count": 90,
      "outputs": []
    },
    {
      "cell_type": "markdown",
      "source": [
        "## Ferramenta que realiza a extração de uma universidade."
      ],
      "metadata": {
        "id": "v_8xsLQGIGej"
      }
    },
    {
      "cell_type": "code",
      "source": [
        "class ExtratorDeUniversidades(BaseModel):\n",
        "\n",
        "  universidade : str = Field(\n",
        "      \"\"\"\n",
        "      Nome da universidade informada, sempre em letras minúsculas.\n",
        "      \"\"\"\n",
        "      )"
      ],
      "metadata": {
        "id": "JF7ApS8j7TQe"
      },
      "execution_count": 82,
      "outputs": []
    },
    {
      "cell_type": "code",
      "source": [
        "class DadosUniversidades(BaseTool):\n",
        "\n",
        "  name = \"DadosUniversidades\"\n",
        "  description = (\n",
        "                \"\"\"\n",
        "                Esta ferramenta extrai os dados de uma universidade.\n",
        "                Passe para essa ferramenta como argumento o nome da faculdade.\n",
        "                \"\"\"\n",
        "                )\n",
        "\n",
        "  def _run(self, query: str) -> str:\n",
        "\n",
        "    llm_3 = ChatGoogleGenerativeAI(\n",
        "        model = \"gemini-1.5-pro-latest\",\n",
        "        temperature = 0\n",
        "        )\n",
        "\n",
        "    parser = JsonOutputParser(pydantic_model=ExtratorDeUniversidades)\n",
        "\n",
        "    prompt_template_3 = PromptTemplate(\n",
        "        template = \"\"\"\n",
        "                   Extraia o nome da universidade informada no {input} e o retorne\n",
        "                   num formato JSON. A chave desse formato deve ser 'universidade'\n",
        "                   e o valor deve ser o nome da universidade em letras minúsculas,\n",
        "                   seguindo o formato de saída especificado.\n",
        "\n",
        "                   Formato de saída :\n",
        "                   -------------------------------\n",
        "                   {formato_saida}\n",
        "                   -------------------------------\n",
        "                   \"\"\",\n",
        "        input_variables = [\"input\"],\n",
        "        partial_variables={\"formato_saida\" : parser.get_format_instructions()}\n",
        "    )\n",
        "\n",
        "    chain = prompt_template_3 | llm_3 | parser\n",
        "\n",
        "    response = chain.invoke({\"input\" : query})\n",
        "\n",
        "    # Debug prints\n",
        "    print(\"\\nResponse from LLM:\", response)\n",
        "\n",
        "    universidade = response[\"universidade\"].lower()\n",
        "\n",
        "    dados_universidade = dados_da_universidade(universidade)\n",
        "\n",
        "    return json.dumps(dados_universidade)"
      ],
      "metadata": {
        "id": "6IO2xgzt4QuD"
      },
      "execution_count": 83,
      "outputs": []
    },
    {
      "cell_type": "markdown",
      "source": [
        "## Ferramenta que realiza a extração de todas as universidades"
      ],
      "metadata": {
        "id": "JCxEwv5eITVp"
      }
    },
    {
      "cell_type": "code",
      "source": [
        "class TodasAsUniversidades(BaseTool):\n",
        "\n",
        "  name = \"TodasAsUniversidades\"\n",
        "  description = (\n",
        "                \"\"\"\n",
        "                Esta ferramenta extrai os dados de todas as universidades.\n",
        "                Não é necessário nenhum parâmetro de entrada.\n",
        "\n",
        "                Apenas a use se lhe for requisitada todas as universidades.\n",
        "                \"\"\"\n",
        "                )\n",
        "\n",
        "  def _run(self, query: str):\n",
        "\n",
        "    return dados_das_universidades()"
      ],
      "metadata": {
        "id": "tj9luQP8ISNA"
      },
      "execution_count": 84,
      "outputs": []
    },
    {
      "cell_type": "markdown",
      "source": [
        "## Ferramenta que realiza o perfil acadêmico da universidade"
      ],
      "metadata": {
        "id": "IfGAZQc7INA4"
      }
    },
    {
      "cell_type": "code",
      "source": [
        "class PerfilAcademicoDasUniversidades(BaseModel):\n",
        "\n",
        "  name : str = Field(\"Nome da universidade\")\n",
        "\n",
        "  pais : str = Field(\"País onde a universidade está localizada.\")\n",
        "\n",
        "  criterio : List[str] = Field(\"Lista dos critérios de seleção que a universidade possui.\")\n",
        "\n",
        "  cursos : List[str] = Field(\"Lista de cursos em detaque oferecidos pela universidade.\")\n",
        "\n",
        "  perfil : str = Field(\"\"\"\n",
        "                       Identifique o perfil desejado de estudante de acordo com a\n",
        "                       universidade e faça uma síntese sobre segundo o interesse\n",
        "                       da instituição.\n",
        "\n",
        "                       A partir da síntese, estabeleça uma hierarquia de candidatos,\n",
        "                       como ideal, bom e razoável, reservando para cada um desses o\n",
        "                       que precisam ter para serem qualificados como tais.\n",
        "                       \"\"\")\n",
        ""
      ],
      "metadata": {
        "id": "8X3BBzbu_NR8"
      },
      "execution_count": 85,
      "outputs": []
    },
    {
      "cell_type": "code",
      "source": [
        "class PerfilUniversidade(BaseTool):\n",
        "\n",
        "  name = \"PerfilUniversidade\"\n",
        "  description = (\n",
        "                \"\"\"\n",
        "                Essa ferramenta cria um perfil acadêmico da universidade\n",
        "                a partir de todos os dados obtidos.\n",
        "\n",
        "                A ferramenta não é capaz de extrair os dados da(s) universidade(s),\n",
        "                sendo necessário utilizar, para isso, a ferramenta ExtraiDadosUniversidades.\n",
        "                \"\"\"\n",
        "                )\n",
        "\n",
        "  def _run(self, query: str) -> str:\n",
        "\n",
        "    llm_4 = ChatGoogleGenerativeAI(\n",
        "        model = \"gemini-1.5-pro-latest\",\n",
        "        temperature = 0.5\n",
        "        )\n",
        "\n",
        "    parser = JsonOutputParser(pydantic_model=PerfilAcademicoDasUniversidades)\n",
        "\n",
        "    prompt_template_4 = PromptTemplate(\n",
        "        template = \"\"\"\n",
        "                   Elabore um perfil acadêmico para a universidade a partir das\n",
        "                   informações da(s) universidade(s) em {dados_universidade}.\n",
        "\n",
        "                   Junto do perfil criado, crie três tipos de candidatos\n",
        "                   de interesse da universidade, dividindo-os em ideal, bom\n",
        "                   e razoável, a partir do perfil desejado.\n",
        "\n",
        "                   Formato de saída :\n",
        "                   -------------------------------\n",
        "                   {formato_de_saida}\n",
        "                   -------------------------------\n",
        "                   \"\"\",\n",
        "        input_variables=[\"dados_universidade\"],\n",
        "        partial_variables={\"formato_de_saida\" : parser.get_format_instructions()}\n",
        "    )\n",
        "\n",
        "    chain = prompt_template_4 | llm_4 | parser\n",
        "\n",
        "    response = chain.invoke({\"dados_universidade\" : query})\n",
        "\n",
        "    return response\n",
        ""
      ],
      "metadata": {
        "id": "IUkPP96_9_n4"
      },
      "execution_count": 86,
      "outputs": []
    },
    {
      "cell_type": "markdown",
      "source": [
        "# Criando o Agent 🤖"
      ],
      "metadata": {
        "id": "LFDvShHLiyYG"
      }
    },
    {
      "cell_type": "code",
      "source": [
        "class Agent:\n",
        "\n",
        "  def __init__(self):\n",
        "\n",
        "    # Instaciando a classe que extrai os dados dos estudantes.\n",
        "    dados_estudantes = DadosEstudantes()\n",
        "\n",
        "    # Instanciando a classe que cria o perfil acadêmico do estudante.\n",
        "    perfil_academico = PerfilAcademico()\n",
        "\n",
        "    # Instanciando a classe que extrai os dados das universidades.\n",
        "    dados_universidades = DadosUniversidades()\n",
        "\n",
        "    # Instanciando a classe que cria o perfil acadêmico das universidades.\n",
        "    perfil_universidade = PerfilUniversidade()\n",
        "\n",
        "    # Instanciando a ferramenta que realiza a extração de todas as universidades.\n",
        "    todas_as_universidades = TodasAsUniversidades()\n",
        "\n",
        "    # Criando a ferramenta que será utilizada pelo Agent :\n",
        "\n",
        "    self.tools_dados_estudantes = [\n",
        "        Tool(\n",
        "        name = dados_estudantes.name,\n",
        "        func = dados_estudantes.run,\n",
        "        description = dados_estudantes.description\n",
        "        ),\n",
        "        Tool(\n",
        "        name = perfil_academico.name,\n",
        "        func = perfil_academico.run,\n",
        "        description = perfil_academico.description\n",
        "        ),\n",
        "        Tool(\n",
        "        name = dados_universidades.name,\n",
        "        func = dados_universidades.run,\n",
        "        description = dados_universidades.description\n",
        "        ),\n",
        "        Tool(\n",
        "        name = perfil_universidade.name,\n",
        "        func = perfil_universidade.run,\n",
        "        description = perfil_universidade.description\n",
        "        ),\n",
        "        Tool(\n",
        "        name = todas_as_universidades.name,\n",
        "        func = todas_as_universidades.run,\n",
        "        description = todas_as_universidades.description\n",
        "        )\n",
        "        ]\n",
        "\n",
        "    # Definindo o template a partir do qual a LLM deverá\n",
        "    # se nortear para a resolução da consulta. Por meio dele,\n",
        "    # defino a sua role playing, tarefa e saída esperada, aplicando\n",
        "    # o método conhecido como ReAct (reasoning and act), buscando\n",
        "    # reproduzir um compotamento de racíocinio com ação, importantes\n",
        "    # para a produção de agents autônomos.\n",
        "\n",
        "    prompt = PromptTemplate(\n",
        "        template=\"\"\"\n",
        "            Você é uma experiente consultora de carreiras de uma escola, especializada\n",
        "            no âmbito da educação. Com base em sua experiência, consegue identificar\n",
        "            os pontos fortes e fracos do estudantes e, junto de outras características,\n",
        "            criar um perfil acadêmico para eles.\n",
        "\n",
        "            Seu objetivo é responder de forma eficiente as perguntas que lhe\n",
        "            são feitas referentes aos estudantes da escola, sabendo criar um perfil\n",
        "            para cada aluno com base em suas características, bem como para cada\n",
        "            instituição de ensino que tem acesso.\n",
        "\n",
        "            Para responder as consultas, utilize as {tools} informadas,\n",
        "            se para a resolução de suas tarefas forem necessárias, seguindo\n",
        "            o formato a seguir :\n",
        "\n",
        "            ```\n",
        "            Thought: Do I need to use a tool? Yes\n",
        "            Action: the action to take, should be one of [{tool_names}]\n",
        "            Action Input: the input to the action\n",
        "            Observation: the result of the action\n",
        "            ```\n",
        "\n",
        "            Quando você obter a resposta e poder informá-la ao humano,\n",
        "            ou não precisar a ferramenta para encontrá-la, você DEVE usar\n",
        "            o seguinte formato:\n",
        "\n",
        "            ```\n",
        "            Thought: Do I need to use a tool? [your response here]\n",
        "            Final Answer: [your response here]\n",
        "            ```\n",
        "\n",
        "            A sua tarefa é responder a consulta ```{input}```.\n",
        "\n",
        "            A resposta esperada deve ser uma resposta rica, detalhada, assertiva\n",
        "            e informativa, mas sem ser prolixa, atendendo-se ao contexto da\n",
        "            consulta e ao o que ela pergunta.\n",
        "\n",
        "            {agent_scratchpad}\n",
        "            \"\"\",\n",
        "        input_variables=[\"tools\", \"input\", \"tool_names\", \"agent_scratchpad\"]\n",
        "    )\n",
        "\n",
        "    model = ChatGoogleGenerativeAI(\n",
        "      model = \"gemini-1.5-pro-latest\",\n",
        "      temperature = 0.5\n",
        "      )\n",
        "\n",
        "    self.agent = create_react_agent(\n",
        "      llm = model,\n",
        "      tools = self.tools_dados_estudantes,\n",
        "      prompt = prompt)\n",
        "\n"
      ],
      "metadata": {
        "id": "huOJOljEW7FQ"
      },
      "execution_count": 87,
      "outputs": []
    },
    {
      "cell_type": "code",
      "source": [
        "# Instanciando o agent.\n",
        "agent = Agent()\n",
        "\n",
        "# Executando o agent.\n",
        "\n",
        "agent_executor = AgentExecutor(\n",
        "    agent = agent.agent,\n",
        "    tools = agent.tools_dados_estudantes,\n",
        "    verbose = True\n",
        "    )"
      ],
      "metadata": {
        "id": "3K9eSZr3ioux"
      },
      "execution_count": 88,
      "outputs": []
    },
    {
      "cell_type": "code",
      "source": [
        "query = (\"\"\"\n",
        "        Verifique se o perfil da estudante Brenda é aderente para\n",
        "        as instituições de seu interesse.\n",
        "        \"\"\")\n",
        "\n",
        "agent_executor.invoke({\"input\":query})"
      ],
      "metadata": {
        "colab": {
          "base_uri": "https://localhost:8080/"
        },
        "id": "6uzmeXTRgI_B",
        "outputId": "46c428ce-c89f-460b-925d-4c3c547c76ad"
      },
      "execution_count": 93,
      "outputs": [
        {
          "output_type": "stream",
          "name": "stdout",
          "text": [
            "\n",
            "\n",
            "\u001b[1m> Entering new AgentExecutor chain...\u001b[0m\n",
            "\u001b[32;1m\u001b[1;3m```tool_code\n",
            "Thought: Do I need to use a tool? Yes\n",
            "Action: ExtraiDadosEstudantes\n",
            "Action Input: Brenda\u001b[0mResponse from LLM: brenda\n",
            "\u001b[36;1m\u001b[1;3m{\"NOME\": {\"7\": \"Brenda\"}, \"USUARIO\": {\"7\": \"brenda\"}, \"ANO_FORMATURA\": {\"7\": 2026}, \"SCORE_MATEMATICA\": {\"7\": 4}, \"SCORE_PORTUGUES_\": {\"7\": 7}, \"SCORE_BIOLOGIA\": {\"7\": 1}, \"SCORE_FISICA\": {\"7\": 2}, \"SCORE_COMPUTACAO\": {\"7\": 1}, \"SCORE_FILOSOFIA\": {\"7\": 5}, \"SCORE_PROJETOS\": {\"7\": 9}, \"SCORE_ATIVIDADES_SOCIAIS\": {\"7\": 0}, \"SCORE_PUBLICACOES\": {\"7\": 9}, \"LISTA_AREAS_PREFERIDAS\": {\"7\": \"['Ci\\u00eancias']\"}, \"PROEFICIENCIA_INGLES\": {\"7\": 6.0}, \"PROEFICIENCIA_ESPANHOL\": {\"7\": 7.0}, \"LISTA_PAISES_PREFERIDOS\": {\"7\": \"['Canad\\u00e1', 'Austr\\u00e1lia']\"}, \"LISTA_UNIVERSIDADES_PREFERIDAS\": {\"7\": \"['University of Toronto', 'University of Sydney']\"}}\u001b[0m\u001b[32;1m\u001b[1;3mThought: Do I need to use a tool? Yes\n",
            "Action: PerfilAcademico\n",
            "Action Input: {\"NOME\": {\"7\": \"Brenda\"}, \"USUARIO\": {\"7\": \"brenda\"}, \"ANO_FORMATURA\": {\"7\": 2026}, \"SCORE_MATEMATICA\": {\"7\": 4}, \"SCORE_PORTUGUES_\": {\"7\": 7}, \"SCORE_BIOLOGIA\": {\"7\": 1}, \"SCORE_FISICA\": {\"7\": 2}, \"SCORE_COMPUTACAO\": {\"7\": 1}, \"SCORE_FILOSOFIA\": {\"7\": 5}, \"SCORE_PROJETOS\": {\"7\": 9}, \"SCORE_ATIVIDADES_SOCIAIS\": {\"7\": 0}, \"SCORE_PUBLICACOES\": {\"7\": 9}, \"LISTA_AREAS_PREFERIDAS\": {\"7\": \"['Ciências']\"}, \"PROEFICIENCIA_INGLES\": {\"7\": 6.0}, \"PROEFICIENCIA_ESPANHOL\": {\"7\": 7.0}, \"LISTA_PAISES_PREFERIDOS\": {\"7\": \"['Canadá', 'Austrália']\"}, \"LISTA_UNIVERSIDADES_PREFERIDAS\": {\"7\": \"['University of Toronto', 'University of Sydney']\"}}\u001b[0m\u001b[33;1m\u001b[1;3m{'perfil_do_estudante': {'nome': 'Brenda', 'ano_formatura': 2026, 'interesses': ['Ciências'], 'paises_preferidos': ['Canadá', 'Austrália'], 'universidades_preferidas': ['University of Toronto', 'University of Sydney'], 'destaques': ['Brenda demonstra grande aptidão para projetos, com um score de 9 em 10.', 'Sua paixão por pesquisa é evidente em seu histórico, com um score de 9 em publicações.', 'Brenda possui proficiência em inglês e espanhol, com pontuações de 6.0 e 7.0, respectivamente, o que facilitará sua adaptação em países estrangeiros.'], 'observacoes': 'Apesar de ter interesse em Ciências, Brenda apresenta um score baixo em areas como Biologia, Física e Computação. É importante explorar áreas dentro de Ciências que se alinhem com seu perfil, focando em seus pontos fortes como projetos e publicações.'}, 'sugestoes_de_curso': {'University of Toronto': ['Ciência Política (com foco em pesquisa e metodologia)', 'Estudos Sociais (com ênfase em projetos de pesquisa)', 'Comunicação e Cultura (com foco em produção acadêmica e publicações)'], 'University of Sydney': ['Estudos Culturais (com foco em pesquisa e escrita)', 'Ciências Sociais (com ênfase em projetos e metodologia)', 'Media e Comunicação (com foco em produção de conteúdo e publicação)']}}\u001b[0m\u001b[32;1m\u001b[1;3mThought: Do I need to use a tool? Yes\n",
            "Action: DadosUniversidades\n",
            "Action Input: University of Toronto\u001b[0mResponse from LLM: {'universidade': 'university of toronto'}\n",
            "\u001b[38;5;200m\u001b[1;3m{\"NOME_FACULDADE\": {\"9\": \"university of toronto\"}, \"PAIS\": {\"9\": \"Canad\\u00e1\"}, \"CRITERIOS_SELECAO\": {\"9\": \"Notas, Teste de admiss\\u00e3o, Experi\\u00eancia pr\\u00e9via\"}, \"CURSOS_DESTAQUE\": {\"9\": \"Medicina, Direito, Psicologia\"}, \"PERFIL_DESEJADO\": {\"9\": \"Comprometidos, Dedicados, Anal\\u00edticos\"}}\u001b[0m\u001b[32;1m\u001b[1;3mThought: Do I need to use a tool? Yes\n",
            "Action: DadosUniversidades\n",
            "Action Input: University of Sydney\u001b[0mResponse from LLM: {'universidade': 'university of sydney'}\n",
            "\u001b[38;5;200m\u001b[1;3m{\"NOME_FACULDADE\": {\"12\": \"university of sydney\"}, \"PAIS\": {\"12\": \"Austr\\u00e1lia\"}, \"CRITERIOS_SELECAO\": {\"12\": \"ATAR, Entrevista, Portf\\u00f3lio\"}, \"CURSOS_DESTAQUE\": {\"12\": \"Direito, Educa\\u00e7\\u00e3o, Artes\"}, \"PERFIL_DESEJADO\": {\"12\": \"Criativos, Inovadores, Comprometidos\"}}\u001b[0m\u001b[32;1m\u001b[1;3mThought: Do I need to use a tool? Yes\n",
            "Action: PerfilUniversidade\n",
            "Action Input: {\"NOME_FACULDADE\": {\"9\": \"university of toronto\"}, \"PAIS\": {\"9\": \"Canadá\"}, \"CRITERIOS_SELECAO\": {\"9\": \"Notas, Teste de admissão, Experiência prévia\"}, \"CURSOS_DESTAQUE\": {\"9\": \"Medicina, Direito, Psicologia\"}, \"PERFIL_DESEJADO\": {\"9\": \"Comprometidos, Dedicados, Analíticos\"}}\u001b[0m\u001b[36;1m\u001b[1;3m{'perfil_academico': {'universidade': 'University of Toronto', 'pais': 'Canadá', 'criterios_selecao': ['Notas acima da média em disciplinas relevantes.', 'Desempenho excepcional em testes de admissão como SAT ou ACT.', 'Experiência prévia significativa em áreas relacionadas ao curso (ex: voluntariado, pesquisa, projetos).', 'Cartas de recomendação que destaquem as qualidades desejadas.'], 'cursos_destaque': ['Medicina', 'Direito', 'Psicologia'], 'perfil_desejado': {'comprometidos': 'Demonstram paixão pela área escolhida, buscam aprofundar seus conhecimentos e contribuem ativamente para a comunidade acadêmica.', 'dedicados': 'Possuem ética de trabalho sólida, buscam excelência em seus estudos e se esforçam para superar desafios acadêmicos.', 'analíticos': 'Pensam criticamente, resolvem problemas de forma criativa e aprendem de forma independente.'}}, 'tipos_candidatos': {'ideal': {'notas': 'Excepcionais em todas as disciplinas, com histórico de aprofundamento em áreas de interesse.', 'testes': 'Pontuação alta em testes padronizados, demonstrando domínio das habilidades avaliadas.', 'experiência': 'Voluntariado ou pesquisa relevante, com impacto demonstrado e participação ativa em projetos.', 'perfil': 'Altamente motivado, com iniciativa,  liderança em atividades extracurriculares e paixão pela área escolhida.'}, 'bom': {'notas': 'Acima da média, com bom desempenho em disciplinas relevantes para o curso desejado.', 'testes': 'Pontuação acima da média em testes padronizados, demonstrando habilidades sólidas.', 'experiência': 'Participação em atividades extracurriculares relevantes, demonstrando interesse e dedicação.', 'perfil': 'Motivado, com bom histórico de participação e engajamento em atividades extracurriculares.'}, 'razoável': {'notas': 'Dentro da média, com algumas notas acima da média em disciplinas relevantes.', 'testes': 'Pontuação dentro da média em testes padronizados.', 'experiência': 'Experiência limitada em atividades extracurriculares, com potencial a ser desenvolvido.', 'perfil': 'Demonstra interesse na área escolhida, mas precisa desenvolver suas habilidades e experiências.'}}}\u001b[0m\u001b[32;1m\u001b[1;3mThought: Do I need to use a tool? Yes\n",
            "Action: PerfilUniversidade\n",
            "Action Input: {\"NOME_FACULDADE\": {\"12\": \"university of sydney\"}, \"PAIS\": {\"12\": \"Austrália\"}, \"CRITERIOS_SELECAO\": {\"12\": \"ATAR, Entrevista, Portfólio\"}, \"CURSOS_DESTAQUE\": {\"12\": \"Direito, Educação, Artes\"}, \"PERFIL_DESEJADO\": {\"12\": \"Criativos, Inovadores, Comprometidos\"}}\u001b[0m\u001b[36;1m\u001b[1;3m{'perfil_academico': {'nome': 'University of Sydney', 'pais': 'Austrália', 'criterios_selecao': ['ATAR (Australian Tertiary Admission Rank)', 'Entrevista', 'Portfólio'], 'cursos_destaque': ['Direito', 'Educação', 'Artes'], 'perfil_desejado': {'caracteristicas': ['Criativos', 'Inovadores', 'Comprometidos'], 'descricao': 'A University of Sydney busca estudantes com um forte espírito criativo e inovador, que desejam contribuir ativamente para suas áreas de estudo e para a sociedade. O candidato ideal demonstra paixão pela aprendizagem, busca soluções originais para desafios complexos e se engaja em projetos que geram impacto positivo.'}}, 'tipos_candidatos': {'ideal': {'descricao': 'Candidato com excelente desempenho acadêmico (ATAR acima de 95), comprovado através de histórico escolar e cartas de recomendação. Demonstra grande capacidade criativa e inovadora através de projetos desenvolvidos em sua área de interesse, participação em olimpíadas científicas ou iniciativas empreendedoras. Possui experiência em atividades extracurriculares que evidenciam seu compromisso com a comunidade e seus valores.', 'exemplo': 'Um estudante com ATAR de 98 que desenvolveu um aplicativo inovador para ajudar crianças com autismo a aprender matemática, ganhou prêmios em olimpíadas de robótica e atua como voluntário em um projeto de alfabetização.'}, 'bom': {'descricao': 'Candidato com bom desempenho acadêmico (ATAR acima de 85) e histórico escolar consistente. Demonstra potencial criativo e inovador através de projetos e atividades extracurriculares, mesmo que em estágio inicial. Possui engajamento em causas sociais e busca constantemente expandir seus conhecimentos e habilidades.', 'exemplo': 'Um estudante com ATAR de 90 que participou de um grupo de teatro na escola, desenvolveu um projeto de pesquisa sobre energias renováveis e participa de um projeto social na comunidade.'}, 'razoável': {'descricao': 'Candidato com desempenho acadêmico satisfatório (ATAR acima de 75). Demonstra interesse em explorar novas ideias e possui alguma experiência em atividades extracurriculares. Busca desenvolver suas habilidades e está aberto a novos desafios.', 'exemplo': 'Um estudante com ATAR de 80 que participou do grêmio estudantil, fez um curso online sobre design gráfico e busca oportunidades de voluntariado.'}}}\u001b[0m\u001b[32;1m\u001b[1;3mThought: Do I need to use a tool? No\n",
            "Final Answer: Brenda demonstra grande aptidão para projetos e publicações, o que a destaca em ambos os perfis universitários. Suas habilidades se encaixam na busca por candidatos inovadores e engajados da University of Sydney. No entanto, seu interesse em Ciências, com baixo desempenho em áreas como Biologia, Física e Computação, exige cuidado na escolha do curso.  Explorar áreas dentro de Ciências que se alinhem com projetos e publicações é essencial, assim como fortalecer sua base em áreas científicas para a University of Toronto, que exige excelência acadêmica em áreas específicas.\n",
            "\u001b[0m\n",
            "\n",
            "\u001b[1m> Finished chain.\u001b[0m\n"
          ]
        },
        {
          "output_type": "execute_result",
          "data": {
            "text/plain": [
              "{'input': '\\n        Verifique se o perfil da estudante Brenda é aderente para \\n        as instituições de seu interesse. \\n        ',\n",
              " 'output': 'Brenda demonstra grande aptidão para projetos e publicações, o que a destaca em ambos os perfis universitários. Suas habilidades se encaixam na busca por candidatos inovadores e engajados da University of Sydney. No entanto, seu interesse em Ciências, com baixo desempenho em áreas como Biologia, Física e Computação, exige cuidado na escolha do curso.  Explorar áreas dentro de Ciências que se alinhem com projetos e publicações é essencial, assim como fortalecer sua base em áreas científicas para a University of Toronto, que exige excelência acadêmica em áreas específicas.'}"
            ]
          },
          "metadata": {},
          "execution_count": 93
        }
      ]
    },
    {
      "cell_type": "code",
      "source": [],
      "metadata": {
        "id": "MeCABHQKgZye"
      },
      "execution_count": 23,
      "outputs": []
    }
  ]
}